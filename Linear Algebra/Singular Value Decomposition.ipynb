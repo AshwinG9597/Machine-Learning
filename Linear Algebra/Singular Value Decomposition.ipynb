{
 "cells": [
  {
   "cell_type": "markdown",
   "id": "257f25e5",
   "metadata": {},
   "source": [
    "# Singular Value Decomposition"
   ]
  },
  {
   "cell_type": "markdown",
   "id": "7496b0e3",
   "metadata": {},
   "source": [
    "Unlike Spectral decomposition/Eigen decomposition which only work on square matrices, Singular value decomposition works on matrices of any shape (rectangular, square etc.)\n",
    "<br> <br>\n",
    "It breaks it down into a left singular matrix, singular value diagonal matrix and right singular value matrix\n",
    "<br>\n",
    "<br>\n",
    "A=UΣV^T"
   ]
  },
  {
   "cell_type": "code",
   "execution_count": 218,
   "id": "e815d17c",
   "metadata": {},
   "outputs": [],
   "source": [
    "#import the necessary libraries\n",
    "import numpy as np"
   ]
  },
  {
   "cell_type": "code",
   "execution_count": 210,
   "id": "89409cc9",
   "metadata": {},
   "outputs": [
    {
     "data": {
      "text/plain": [
       "array([[2, 1],\n",
       "       [3, 1]])"
      ]
     },
     "execution_count": 210,
     "metadata": {},
     "output_type": "execute_result"
    }
   ],
   "source": [
    "#initialize a sample rectangular matrix\n",
    "A = np.array([[2,1],[3,1]])\n",
    "A"
   ]
  },
  {
   "cell_type": "code",
   "execution_count": 211,
   "id": "ee559156",
   "metadata": {},
   "outputs": [
    {
     "data": {
      "text/plain": [
       "(array([[-0.57604844, -0.81741556],\n",
       "        [-0.81741556,  0.57604844]]),\n",
       " array([3.86432845, 0.25877718]),\n",
       " array([[-0.93272184, -0.36059668],\n",
       "        [ 0.36059668, -0.93272184]]))"
      ]
     },
     "execution_count": 211,
     "metadata": {},
     "output_type": "execute_result"
    }
   ],
   "source": [
    "#to apply singular value decomposition\n",
    "U,d,VT = np.linalg.svd(A)\n",
    "U,d,VT"
   ]
  },
  {
   "cell_type": "code",
   "execution_count": 212,
   "id": "ee537cd4",
   "metadata": {},
   "outputs": [
    {
     "data": {
      "text/plain": [
       "array([[3.86432845, 0.        ],\n",
       "       [0.        , 0.25877718]])"
      ]
     },
     "execution_count": 212,
     "metadata": {},
     "output_type": "execute_result"
    }
   ],
   "source": [
    "#construct a diagonal matrix\n",
    "d = np.diag(d)\n",
    "d"
   ]
  },
  {
   "cell_type": "code",
   "execution_count": 213,
   "id": "458daa91",
   "metadata": {},
   "outputs": [
    {
     "data": {
      "text/plain": [
       "array([[2., 1.],\n",
       "       [3., 1.]])"
      ]
     },
     "execution_count": 213,
     "metadata": {},
     "output_type": "execute_result"
    }
   ],
   "source": [
    "#reconstruct the original matrix using the svd formula\n",
    "np.dot(U,np.dot(d,VT))"
   ]
  },
  {
   "cell_type": "markdown",
   "id": "beea6b3b",
   "metadata": {},
   "source": [
    "## if the input matrix is not a square matrix"
   ]
  },
  {
   "cell_type": "code",
   "execution_count": 214,
   "id": "5306265a",
   "metadata": {},
   "outputs": [
    {
     "data": {
      "text/plain": [
       "array([[-1,  2],\n",
       "       [ 3, -2],\n",
       "       [ 5,  7]])"
      ]
     },
     "execution_count": 214,
     "metadata": {},
     "output_type": "execute_result"
    }
   ],
   "source": [
    "A = np.array([[-1,2],[3,-2],[5,7]])\n",
    "A"
   ]
  },
  {
   "cell_type": "code",
   "execution_count": 215,
   "id": "25cb94f9",
   "metadata": {},
   "outputs": [
    {
     "data": {
      "text/plain": [
       "(array([[ 0.12708324,  0.47409506,  0.87125411],\n",
       "        [ 0.00164602, -0.87847553,  0.47778451],\n",
       "        [ 0.99189069, -0.0592843 , -0.11241989]]),\n",
       " array([8.66918448, 4.10429538]),\n",
       " array([[ 0.55798885,  0.82984845],\n",
       "        [-0.82984845,  0.55798885]]))"
      ]
     },
     "execution_count": 215,
     "metadata": {},
     "output_type": "execute_result"
    }
   ],
   "source": [
    "#to apply singular value decomposition\n",
    "U,d,VT = np.linalg.svd(A)\n",
    "U,d,VT"
   ]
  },
  {
   "cell_type": "code",
   "execution_count": 216,
   "id": "fe6e4430",
   "metadata": {},
   "outputs": [],
   "source": [
    "#construct a diagonal matrix with the same dimensions as the matrix that you are trying to reconstruct\n",
    "dia = np.diag(d)\n",
    "\n",
    "S = np.concatenate([dia,[[0,0]]],axis = 0)"
   ]
  },
  {
   "cell_type": "code",
   "execution_count": 219,
   "id": "ed7366ef",
   "metadata": {},
   "outputs": [
    {
     "data": {
      "text/plain": [
       "array([[-1.,  2.],\n",
       "       [ 3., -2.],\n",
       "       [ 5.,  7.]])"
      ]
     },
     "execution_count": 219,
     "metadata": {},
     "output_type": "execute_result"
    }
   ],
   "source": [
    "#reconstruct the original matrix using the svd formula\n",
    "np.dot(U,np.dot(S,VT))"
   ]
  },
  {
   "cell_type": "code",
   "execution_count": null,
   "id": "0d3cc6d2",
   "metadata": {},
   "outputs": [],
   "source": []
  },
  {
   "cell_type": "code",
   "execution_count": null,
   "id": "99d95c69",
   "metadata": {},
   "outputs": [],
   "source": []
  }
 ],
 "metadata": {
  "kernelspec": {
   "display_name": "Python 3 (ipykernel)",
   "language": "python",
   "name": "python3"
  },
  "language_info": {
   "codemirror_mode": {
    "name": "ipython",
    "version": 3
   },
   "file_extension": ".py",
   "mimetype": "text/x-python",
   "name": "python",
   "nbconvert_exporter": "python",
   "pygments_lexer": "ipython3",
   "version": "3.11.7"
  }
 },
 "nbformat": 4,
 "nbformat_minor": 5
}
