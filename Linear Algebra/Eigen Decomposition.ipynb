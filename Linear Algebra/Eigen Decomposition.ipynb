{
 "cells": [
  {
   "cell_type": "markdown",
   "id": "7e94f502",
   "metadata": {},
   "source": [
    "# Eigen Decomposition of a Matrix"
   ]
  },
  {
   "cell_type": "code",
   "execution_count": 60,
   "id": "6431cbf6",
   "metadata": {},
   "outputs": [],
   "source": [
    "# import the necessary libraries\n",
    "import numpy as np"
   ]
  },
  {
   "cell_type": "markdown",
   "id": "24ec98f6",
   "metadata": {},
   "source": [
    "The formula for eigen decomposition is A=QΛQ**(-1)"
   ]
  },
  {
   "cell_type": "code",
   "execution_count": 61,
   "id": "d518282f",
   "metadata": {},
   "outputs": [
    {
     "data": {
      "text/plain": [
       "array([[ 4,  2],\n",
       "       [-5, -3]])"
      ]
     },
     "execution_count": 61,
     "metadata": {},
     "output_type": "execute_result"
    }
   ],
   "source": [
    "# take a sample matrix\n",
    "A = np.array([[4,2],[-5,-3]])\n",
    "A"
   ]
  },
  {
   "cell_type": "code",
   "execution_count": 62,
   "id": "0803eafa",
   "metadata": {},
   "outputs": [],
   "source": [
    "#find the eigen values and vectors of the matrix\n",
    "lambdas, V = np.linalg.eig(A)"
   ]
  },
  {
   "cell_type": "code",
   "execution_count": 63,
   "id": "606ccd80",
   "metadata": {},
   "outputs": [],
   "source": [
    "#find the inverse of the matrix\n",
    "V_inv = np.linalg.inv(V)"
   ]
  },
  {
   "cell_type": "code",
   "execution_count": 64,
   "id": "03cde9de",
   "metadata": {},
   "outputs": [],
   "source": [
    "#make the lambda values into a diagonal matrix\n",
    "L = np.diag(lambdas)"
   ]
  },
  {
   "cell_type": "code",
   "execution_count": 65,
   "id": "92edf87a",
   "metadata": {},
   "outputs": [
    {
     "data": {
      "text/plain": [
       "array([[ 4.,  2.],\n",
       "       [-5., -3.]])"
      ]
     },
     "execution_count": 65,
     "metadata": {},
     "output_type": "execute_result"
    }
   ],
   "source": [
    "#check to see if we get back the sample matrix\n",
    "np.dot(np.dot(V,L),V_inv)"
   ]
  },
  {
   "cell_type": "markdown",
   "id": "63a1bf1e",
   "metadata": {},
   "source": [
    "Eigen Decomposition of a symmetric matrix\n",
    "A=QΛQ**(-1) = QΛQ(T)"
   ]
  },
  {
   "cell_type": "code",
   "execution_count": 66,
   "id": "dea850ac",
   "metadata": {},
   "outputs": [
    {
     "data": {
      "text/plain": [
       "array([[2, 1],\n",
       "       [1, 2]])"
      ]
     },
     "execution_count": 66,
     "metadata": {},
     "output_type": "execute_result"
    }
   ],
   "source": [
    "#take a symmetric matrix\n",
    "A2 = np.array([[2,1],[1,2]])\n",
    "A2"
   ]
  },
  {
   "cell_type": "code",
   "execution_count": 67,
   "id": "a192f2d8",
   "metadata": {},
   "outputs": [],
   "source": [
    "#find the eigen values and vectors of the matrix\n",
    "lambdas2 , V2 = np.linalg.eig(A2)"
   ]
  },
  {
   "cell_type": "code",
   "execution_count": 68,
   "id": "55b9d1c8",
   "metadata": {},
   "outputs": [
    {
     "data": {
      "text/plain": [
       "array([[ 0.70710678,  0.70710678],\n",
       "       [-0.70710678,  0.70710678]])"
      ]
     },
     "execution_count": 68,
     "metadata": {},
     "output_type": "execute_result"
    }
   ],
   "source": [
    "# find the inverse of the matrix\n",
    "V2_inv = np.linalg.inv(V2)\n",
    "V2_inv"
   ]
  },
  {
   "cell_type": "code",
   "execution_count": 69,
   "id": "d21bec4c",
   "metadata": {},
   "outputs": [],
   "source": [
    "#create a diagonal matrix with the eigen values\n",
    "L2 = np.diag(lambdas2)"
   ]
  },
  {
   "cell_type": "code",
   "execution_count": 70,
   "id": "0304dbef",
   "metadata": {},
   "outputs": [
    {
     "data": {
      "text/plain": [
       "array([[2., 1.],\n",
       "       [1., 2.]])"
      ]
     },
     "execution_count": 70,
     "metadata": {},
     "output_type": "execute_result"
    }
   ],
   "source": [
    "# check to see if we get back the symmetric matrix\n",
    "np.dot(np.dot(V2,L2),V2_inv)"
   ]
  },
  {
   "cell_type": "code",
   "execution_count": 71,
   "id": "7f2cbc2b",
   "metadata": {},
   "outputs": [
    {
     "data": {
      "text/plain": [
       "array([[2., 1.],\n",
       "       [1., 2.]])"
      ]
     },
     "execution_count": 71,
     "metadata": {},
     "output_type": "execute_result"
    }
   ],
   "source": [
    "# check to see if we get back the symmetrix matrix by replacing the inverse with the transpose\n",
    "np.dot(np.dot(V2,L2),V2.T)"
   ]
  },
  {
   "cell_type": "markdown",
   "id": "8aae1075",
   "metadata": {},
   "source": [
    "This proves that for any symmteric matrix, the decomposed vector Q will be orthogonal because Q.Q-transpose is equal to an Identity matrix I"
   ]
  },
  {
   "cell_type": "code",
   "execution_count": 72,
   "id": "958a170a",
   "metadata": {},
   "outputs": [
    {
     "data": {
      "text/plain": [
       "array([[1., 0.],\n",
       "       [0., 1.]])"
      ]
     },
     "execution_count": 72,
     "metadata": {},
     "output_type": "execute_result"
    }
   ],
   "source": [
    "#condition to check if the eigen vector's transpose is orthogonal\n",
    "np.dot(V2,V2.T)"
   ]
  },
  {
   "cell_type": "code",
   "execution_count": 73,
   "id": "cf52980a",
   "metadata": {},
   "outputs": [
    {
     "data": {
      "text/plain": [
       "array([[1., 0.],\n",
       "       [0., 1.]])"
      ]
     },
     "execution_count": 73,
     "metadata": {},
     "output_type": "execute_result"
    }
   ],
   "source": [
    "#condition to check if the eigen vector and its inverse are orthogonal\n",
    "np.dot(V2,V2_inv)"
   ]
  },
  {
   "cell_type": "code",
   "execution_count": null,
   "id": "a5b6d059",
   "metadata": {},
   "outputs": [],
   "source": []
  }
 ],
 "metadata": {
  "kernelspec": {
   "display_name": "Python 3 (ipykernel)",
   "language": "python",
   "name": "python3"
  },
  "language_info": {
   "codemirror_mode": {
    "name": "ipython",
    "version": 3
   },
   "file_extension": ".py",
   "mimetype": "text/x-python",
   "name": "python",
   "nbconvert_exporter": "python",
   "pygments_lexer": "ipython3",
   "version": "3.11.7"
  }
 },
 "nbformat": 4,
 "nbformat_minor": 5
}
