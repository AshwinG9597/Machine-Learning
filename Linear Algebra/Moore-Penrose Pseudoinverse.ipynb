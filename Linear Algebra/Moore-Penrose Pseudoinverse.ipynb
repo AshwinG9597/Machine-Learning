{
 "cells": [
  {
   "cell_type": "markdown",
   "id": "a4357ec6",
   "metadata": {},
   "source": [
    "# Moore-Penrose Pseudoinverse"
   ]
  },
  {
   "cell_type": "markdown",
   "id": "898b6a7c",
   "metadata": {},
   "source": [
    "#### The Moore-Penrose pseudoinverse is widely used in fields where you need to solve systems of linear equations or deal with matrices that are not square or invertible. It provides an approximate solution when an exact one isn’t possible."
   ]
  },
  {
   "cell_type": "code",
   "execution_count": 6,
   "id": "a0faee49",
   "metadata": {},
   "outputs": [],
   "source": [
    "#Import all the important libraries\n",
    "import numpy as np"
   ]
  },
  {
   "cell_type": "markdown",
   "id": "095c3522",
   "metadata": {},
   "source": [
    "The moore penrose pseudoinverse is given by the formula\n",
    "\n",
    "A+ = V*Σ+*U^T"
   ]
  },
  {
   "cell_type": "code",
   "execution_count": 7,
   "id": "88f37786",
   "metadata": {},
   "outputs": [
    {
     "data": {
      "text/plain": [
       "array([[-1,  2],\n",
       "       [ 3, -2],\n",
       "       [ 5,  7]])"
      ]
     },
     "execution_count": 7,
     "metadata": {},
     "output_type": "execute_result"
    }
   ],
   "source": [
    "#take a sample matrix A\n",
    "A = np.array([[-1,2],[3,-2],[5,7]])\n",
    "A"
   ]
  },
  {
   "cell_type": "code",
   "execution_count": 8,
   "id": "f3eda7ad",
   "metadata": {},
   "outputs": [
    {
     "data": {
      "text/plain": [
       "(array([[ 0.12708324,  0.47409506,  0.87125411],\n",
       "        [ 0.00164602, -0.87847553,  0.47778451],\n",
       "        [ 0.99189069, -0.0592843 , -0.11241989]]),\n",
       " array([8.66918448, 4.10429538]),\n",
       " array([[ 0.55798885,  0.82984845],\n",
       "        [-0.82984845,  0.55798885]]))"
      ]
     },
     "execution_count": 8,
     "metadata": {},
     "output_type": "execute_result"
    }
   ],
   "source": [
    "#SVD of A\n",
    "U,d,VT = np.linalg.svd(A)\n",
    "U,d,VT"
   ]
  },
  {
   "cell_type": "markdown",
   "id": "1f406952",
   "metadata": {},
   "source": [
    "The sigma+ matrix is calculate by taking the reciprocal of the singular values from SVD (which is done using the inverse method) and matching its dimensions to the input matrix A and then taking its transpose"
   ]
  },
  {
   "cell_type": "code",
   "execution_count": 19,
   "id": "ff96ad67",
   "metadata": {},
   "outputs": [
    {
     "data": {
      "text/plain": [
       "array([[0.1153511 , 0.        ],\n",
       "       [0.        , 0.24364718]])"
      ]
     },
     "execution_count": 19,
     "metadata": {},
     "output_type": "execute_result"
    }
   ],
   "source": [
    "d_plus = np.diag(d)\n",
    "d_plus_new = np.linalg.inv(d_plus)\n",
    "d_plus_new"
   ]
  },
  {
   "cell_type": "code",
   "execution_count": 26,
   "id": "de4fdd16",
   "metadata": {},
   "outputs": [
    {
     "data": {
      "text/plain": [
       "array([[0.1153511 , 0.        , 0.        ],\n",
       "       [0.        , 0.24364718, 0.        ]])"
      ]
     },
     "execution_count": 26,
     "metadata": {},
     "output_type": "execute_result"
    }
   ],
   "source": [
    "#taking the transpose\n",
    "Σ = np.concatenate([d_plus_new,[[0,0]]])\n",
    "Σ.T"
   ]
  },
  {
   "cell_type": "code",
   "execution_count": 29,
   "id": "8bed55be",
   "metadata": {},
   "outputs": [
    {
     "data": {
      "text/plain": [
       "array([[-0.08767773,  0.17772512,  0.07582938],\n",
       "       [ 0.07661927, -0.1192733 ,  0.08688784]])"
      ]
     },
     "execution_count": 29,
     "metadata": {},
     "output_type": "execute_result"
    }
   ],
   "source": [
    "#the pseudo-inverse is calculated using the formula and numpy dot product\n",
    "np.dot(VT.T,np.dot(Σ.T,U.T))"
   ]
  },
  {
   "cell_type": "markdown",
   "id": "5f36ef4b",
   "metadata": {},
   "source": [
    "To verify the correctness of the matrix, we use numpy's inbuilt pseudoinverse function"
   ]
  },
  {
   "cell_type": "code",
   "execution_count": 28,
   "id": "8f0851ee",
   "metadata": {},
   "outputs": [
    {
     "data": {
      "text/plain": [
       "array([[-0.08767773,  0.17772512,  0.07582938],\n",
       "       [ 0.07661927, -0.1192733 ,  0.08688784]])"
      ]
     },
     "execution_count": 28,
     "metadata": {},
     "output_type": "execute_result"
    }
   ],
   "source": [
    "np.linalg.pinv(A)"
   ]
  },
  {
   "cell_type": "code",
   "execution_count": null,
   "id": "037564b5",
   "metadata": {},
   "outputs": [],
   "source": []
  }
 ],
 "metadata": {
  "kernelspec": {
   "display_name": "Python 3 (ipykernel)",
   "language": "python",
   "name": "python3"
  },
  "language_info": {
   "codemirror_mode": {
    "name": "ipython",
    "version": 3
   },
   "file_extension": ".py",
   "mimetype": "text/x-python",
   "name": "python",
   "nbconvert_exporter": "python",
   "pygments_lexer": "ipython3",
   "version": "3.11.7"
  }
 },
 "nbformat": 4,
 "nbformat_minor": 5
}
